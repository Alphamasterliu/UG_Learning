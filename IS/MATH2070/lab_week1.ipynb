{
 "cells": [
  {
   "cell_type": "markdown",
   "metadata": {},
   "source": [
    "<img align=\"center\" src=\"http://sydney.edu.au/images/content/about/logo-mono.jpg\">\n",
    "<h1 align=\"center\" style=\"margin-top:10px\">Optimisation and Financial Mathematics</h1>\n",
    "<h2 align=\"center\" style=\"margin-top:10px\">Week 1: Introduction to Python </h2>"
   ]
  },
  {
   "cell_type": "markdown",
   "metadata": {},
   "source": [
    "In this course we will be doing coding using the Python programming language. Python is one of the world's most popular programming languages, and is very widely used for mathematical calculations and in finance. By now you should have installed Python via the [Anaconda](https://www.anaconda.com/download) software, which includes Python, many useful packages for doing mathematics, and software for writing/running code.\n",
    "\n",
    "There are many ways to write and run Python code (including using a text editor and terminal, or dedicated software like [Spyder](https://www.spyder-ide.org/) or [PyCharm](https://www.jetbrains.com/pycharm/)). If you have used MATLAB or RStudio, you will find it easy to use Spyder, which comes included with Anaconda.\n",
    "\n",
    "For this course, we will use Jupyter notebooks for writing/running code. For a basic overview of the buttons at the top of this Jupyter notebook please look at the following references:\n",
    "* https://problemsolvingwithpython.com/02-Jupyter-Notebooks/02.05-The-Jupyter-Notebook-Interface/\n",
    "* https://jupyter-notebook.readthedocs.io/en/stable/examples/Notebook/Notebook%20Basics.html\n",
    "\n",
    "Some quick tips to get you started using Jupyter:\n",
    "* A _cell_ is a section of either text (like this one) or code. Clicking on a cell you will see a blue or green vertical line showing how big the cell is.\n",
    "* You can select a cell and click the “+” button in the tool bar to add a cell below the selected cell. \n",
    "* By default the newly added cell is a “Code cell”, where you can write and run code. To change a cell to text (in Markdown format), click on the cell and then select Cell -> Cell Type -> Markdown from the top menu. \n",
    "* To run a cell with code, select the cell and click the “Run” button in the tool bar. Alternatively, you can simply press Shift+Enter or Ctrl/Cmd+Enter. The results (if any) are shown directly below the cell.\n",
    "* If you select a cell and click the “scissors” button in the tool bar, that will delete the selected cell. \n",
    "\n",
    "**Markdown**\n",
    "\n",
    "Markdown cells (for text) can do basic formatting, as you can see from this cell. It can do lists, basic formatting (bold/italics) and hyperlinks. It can even be used to write equations in LaTeX:\n",
    "\n",
    "$$\n",
    "f(x) \\approx f(x_0) + f^{(1)}(x_0) (x-x_0) + \\frac{1}{2!}f^{(2)}(x_0) (x-x_0)^2 + \\cdots + \\frac{1}{n!} f^{(n)}(x_0) (x-x_0)^n .\n",
    "$$\n",
    "\n",
    "See [this cheatsheet](https://www.ibm.com/docs/en/watson-studio-local/1.2.3?topic=notebooks-markdown-jupyter-cheatsheet) to see the types of formatting you can do in Markdown.\n",
    "\n",
    "Double-click on this cell to view (and edit) the raw Markdown code, if you want."
   ]
  },
  {
   "cell_type": "markdown",
   "metadata": {},
   "source": [
    "## 1.1 Basic Python\n",
    "\n",
    "We can begin by using Python just as a simple calculator."
   ]
  },
  {
   "cell_type": "code",
   "execution_count": 1,
   "metadata": {},
   "outputs": [
    {
     "data": {
      "text/plain": [
       "10"
      ]
     },
     "execution_count": 1,
     "metadata": {},
     "output_type": "execute_result"
    }
   ],
   "source": [
    "2 + 8"
   ]
  },
  {
   "cell_type": "code",
   "execution_count": 2,
   "metadata": {},
   "outputs": [
    {
     "data": {
      "text/plain": [
       "1.17"
      ]
     },
     "execution_count": 2,
     "metadata": {},
     "output_type": "execute_result"
    }
   ],
   "source": [
    "3.8 - 2.63"
   ]
  },
  {
   "cell_type": "code",
   "execution_count": 3,
   "metadata": {},
   "outputs": [
    {
     "data": {
      "text/plain": [
       "56088"
      ]
     },
     "execution_count": 3,
     "metadata": {},
     "output_type": "execute_result"
    }
   ],
   "source": [
    "# Any code starting with '#' is a comment.\n",
    "# Comments are used to explain what is happening in a piece of code\n",
    "# but are ignored by Python.\n",
    "123 * 456"
   ]
  },
  {
   "cell_type": "code",
   "execution_count": 4,
   "metadata": {},
   "outputs": [
    {
     "data": {
      "text/plain": [
       "2.25"
      ]
     },
     "execution_count": 4,
     "metadata": {},
     "output_type": "execute_result"
    }
   ],
   "source": [
    "9 / 4"
   ]
  },
  {
   "cell_type": "code",
   "execution_count": 5,
   "metadata": {},
   "outputs": [
    {
     "data": {
      "text/plain": [
       "8"
      ]
     },
     "execution_count": 5,
     "metadata": {},
     "output_type": "execute_result"
    }
   ],
   "source": [
    "2**3"
   ]
  },
  {
   "cell_type": "markdown",
   "metadata": {},
   "source": [
    "**Warning!** Write $a^b$ as `a**b` in Python, not `a^b` (used for bitwise XOR)\n",
    "\n",
    "If we want to represent very large or small numbers, we can use scientific notation: in Python we can represent $a\\times 10^b$ `aeb`. For example"
   ]
  },
  {
   "cell_type": "code",
   "execution_count": 6,
   "metadata": {},
   "outputs": [
    {
     "data": {
      "text/plain": [
       "2000.0"
      ]
     },
     "execution_count": 6,
     "metadata": {},
     "output_type": "execute_result"
    }
   ],
   "source": [
    "1e3 * 2"
   ]
  },
  {
   "cell_type": "code",
   "execution_count": 7,
   "metadata": {},
   "outputs": [
    {
     "data": {
      "text/plain": [
       "0.0103"
      ]
     },
     "execution_count": 7,
     "metadata": {},
     "output_type": "execute_result"
    }
   ],
   "source": [
    "5.1e-3 + 5.2e-3"
   ]
  },
  {
   "cell_type": "markdown",
   "metadata": {},
   "source": [
    "Python has a small number of other mathematical operations built-in"
   ]
  },
  {
   "cell_type": "code",
   "execution_count": 8,
   "metadata": {},
   "outputs": [
    {
     "data": {
      "text/plain": [
       "3.5"
      ]
     },
     "execution_count": 8,
     "metadata": {},
     "output_type": "execute_result"
    }
   ],
   "source": [
    "abs(-3.5)"
   ]
  },
  {
   "cell_type": "code",
   "execution_count": 9,
   "metadata": {},
   "outputs": [
    {
     "data": {
      "text/plain": [
       "3"
      ]
     },
     "execution_count": 9,
     "metadata": {},
     "output_type": "execute_result"
    }
   ],
   "source": [
    "max(3, 1)"
   ]
  },
  {
   "cell_type": "code",
   "execution_count": 10,
   "metadata": {},
   "outputs": [
    {
     "data": {
      "text/plain": [
       "-8"
      ]
     },
     "execution_count": 10,
     "metadata": {},
     "output_type": "execute_result"
    }
   ],
   "source": [
    "min(3, 1, -8)"
   ]
  },
  {
   "cell_type": "markdown",
   "metadata": {},
   "source": [
    "**Exercise 1:** by experimenting with a few inputs, figure out what the `%` and `//` operators do (e.g. `15 % 4` and `9 // 2`)."
   ]
  },
  {
   "cell_type": "code",
   "execution_count": 11,
   "metadata": {},
   "outputs": [],
   "source": [
    "# Complete exercise here"
   ]
  },
  {
   "cell_type": "markdown",
   "metadata": {},
   "source": [
    "You can also assign values to variables using the `=` sign. For example:"
   ]
  },
  {
   "cell_type": "code",
   "execution_count": 12,
   "metadata": {},
   "outputs": [],
   "source": [
    "# Define variables and assign values\n",
    "x = 4\n",
    "y = 7\n",
    "z = 2"
   ]
  },
  {
   "cell_type": "code",
   "execution_count": 13,
   "metadata": {},
   "outputs": [
    {
     "data": {
      "text/plain": [
       "16"
      ]
     },
     "execution_count": 13,
     "metadata": {},
     "output_type": "execute_result"
    }
   ],
   "source": [
    "x ** z"
   ]
  },
  {
   "cell_type": "code",
   "execution_count": 14,
   "metadata": {},
   "outputs": [
    {
     "data": {
      "text/plain": [
       "6"
      ]
     },
     "execution_count": 14,
     "metadata": {},
     "output_type": "execute_result"
    }
   ],
   "source": [
    "z * (y - x)"
   ]
  },
  {
   "cell_type": "code",
   "execution_count": 15,
   "metadata": {},
   "outputs": [
    {
     "data": {
      "text/plain": [
       "25"
      ]
     },
     "execution_count": 15,
     "metadata": {},
     "output_type": "execute_result"
    }
   ],
   "source": [
    "# The value of a variable can be changed\n",
    "x = 5  # overwrite the value of x\n",
    "y = 2 * z  # overwrite the value of y (using the current value of z)\n",
    "x ** z"
   ]
  },
  {
   "cell_type": "markdown",
   "metadata": {},
   "source": [
    "**Warning!** If you have a line of code like `y = 2 * z`, the output will depend on the current value of `z` (based on the order you run the code, not the order you wrote it). In Jupyter, the In/Out numbers on the right-hand side show you the order that you have run the commands in. "
   ]
  },
  {
   "cell_type": "markdown",
   "metadata": {},
   "source": [
    "**Exercise 2:** Perform the following calculations:\n",
    "\n",
    "- 7 multiplied by 8\n",
    "- 20 to the power of 3\n",
    "- 9 divided by 3\n",
    "- Compute the remainder when 9 is divided by 2\n"
   ]
  },
  {
   "cell_type": "code",
   "execution_count": 16,
   "metadata": {},
   "outputs": [],
   "source": [
    "# Complete exercise here"
   ]
  },
  {
   "cell_type": "markdown",
   "metadata": {},
   "source": [
    "You can print out the value of any piece of text, or of any variable, using the `print` command."
   ]
  },
  {
   "cell_type": "code",
   "execution_count": 17,
   "metadata": {},
   "outputs": [
    {
     "name": "stdout",
     "output_type": "stream",
     "text": [
      "Hello world!\n"
     ]
    }
   ],
   "source": [
    "print(\"Hello world!\")"
   ]
  },
  {
   "cell_type": "code",
   "execution_count": 18,
   "metadata": {},
   "outputs": [
    {
     "name": "stdout",
     "output_type": "stream",
     "text": [
      "The value of z is currently 2\n",
      "Twice this value is 4\n"
     ]
    }
   ],
   "source": [
    "print(\"The value of z is currently\", z)  # comma to separate multiple things to print\n",
    "print(\"Twice this value is\", 2 * z)"
   ]
  },
  {
   "cell_type": "markdown",
   "metadata": {},
   "source": [
    "## 1.2 Packages"
   ]
  },
  {
   "cell_type": "markdown",
   "metadata": {},
   "source": [
    "The Python language by design has a small core of built-in functionality. Most of the fuctionality that we need is in modules or packages that we need to explicity load into our session. These are collections of code written by others (not necessarily the main Python creators). Python has thousands of packages, but we will only use a small number widely used ones. \n",
    "\n",
    "There are two ways to do load a package: either by loading the entire package (or a subset of it) or a specific function."
   ]
  },
  {
   "cell_type": "code",
   "execution_count": 19,
   "metadata": {},
   "outputs": [],
   "source": [
    "# Load everything in the 'math' package\n",
    "# Note: it is usually good practice put all import statements at the top of your notebook\n",
    "import math"
   ]
  },
  {
   "cell_type": "code",
   "execution_count": 20,
   "metadata": {},
   "outputs": [
    {
     "name": "stdout",
     "output_type": "stream",
     "text": [
      "4.0\n",
      "0.8660254037844386\n",
      "0.36787944117144233\n"
     ]
    }
   ],
   "source": [
    "# Some of the things you can do with this package:\n",
    "print(math.sqrt(16))\n",
    "print(math.sin(math.pi / 3))\n",
    "print(math.exp(-1))"
   ]
  },
  {
   "cell_type": "markdown",
   "metadata": {},
   "source": [
    "In this course, we will mostly use the `math` package, plus `numpy` (for linear algebra), `scipy` (for general-purpose mathematical routines like optimisatio) and `matplotlib` (for creating plots). If you installed Python using Anaconda, these packages should already be installed on your computer."
   ]
  },
  {
   "cell_type": "markdown",
   "metadata": {},
   "source": [
    "**Exercise 3:** Compute the volume of a cylinder with radius 5cm and height 20cm."
   ]
  },
  {
   "cell_type": "code",
   "execution_count": 21,
   "metadata": {},
   "outputs": [],
   "source": [
    "# Complete exercise here"
   ]
  },
  {
   "cell_type": "markdown",
   "metadata": {},
   "source": [
    "**Exercise 4:** By reading the [documentation](https://docs.python.org/3/library/math.html) of the Python `math` module, calculate $\\log_{p}(35)$ for $p=2,5,10$.\n",
    "\n",
    "*Note: these labs cannot teach you all the useful Python functions and packages, there's way too much to learn. To progress with your programming ability it is extremely important that you know how to look up functions you haven't seen before (and figure out how to use them).*"
   ]
  },
  {
   "cell_type": "code",
   "execution_count": 22,
   "metadata": {},
   "outputs": [],
   "source": [
    "# Complete exercise here"
   ]
  },
  {
   "cell_type": "markdown",
   "metadata": {},
   "source": [
    "## 1.3 Types & Conditional Statements\n",
    "\n",
    "Every object/variable in Python stores data of a particular 'type'. There are a few common types you might encounter:\n",
    "\n",
    "- Integers (`int`)\n",
    "- Floating-point numbers (`float`) — these represent numbers in $\\mathbb{R}$.\n",
    "- Text strings (`str`)\n",
    "- Boolean truth values `True` and `False` (`bool`).\n",
    "- Lists (`list`)\n",
    "- And many more...\n",
    "\n",
    "If you have a variable, the `type` function will tell you what type of data it contains. The `isinstance` function can be used to check if a variable is of a specific type or not."
   ]
  },
  {
   "cell_type": "code",
   "execution_count": 23,
   "metadata": {},
   "outputs": [
    {
     "name": "stdout",
     "output_type": "stream",
     "text": [
      "w is of type <class 'bool'>\n",
      "x is of type <class 'int'>\n",
      "y is of type <class 'float'>\n",
      "z is of type <class 'str'>\n",
      "x is a float? False\n"
     ]
    }
   ],
   "source": [
    "w = True\n",
    "x = 1\n",
    "y = 3 / 5\n",
    "z = \"hello\"\n",
    "print(\"w is of type\", type(w))\n",
    "print(\"x is of type\", type(x))\n",
    "print(\"y is of type\", type(y))\n",
    "print(\"z is of type\", type(z))\n",
    "\n",
    "print(\"x is a float?\", isinstance(x, float))"
   ]
  },
  {
   "cell_type": "markdown",
   "metadata": {},
   "source": [
    "If it makes sense, you can convert one type to another."
   ]
  },
  {
   "cell_type": "code",
   "execution_count": 24,
   "metadata": {},
   "outputs": [
    {
     "name": "stdout",
     "output_type": "stream",
     "text": [
      "1.0\n",
      "2\n",
      "123.456\n"
     ]
    }
   ],
   "source": [
    "x = 1\n",
    "xfloat = float(x)\n",
    "print(xfloat)  # note 1.0 (float) rather than 1 (int)\n",
    "y = 2.718\n",
    "yint = int(y)\n",
    "print(yint)\n",
    "z = \"123.456\"\n",
    "zfloat = float(z)\n",
    "print(zfloat)"
   ]
  },
  {
   "cell_type": "markdown",
   "metadata": {},
   "source": [
    "**Warning!** If you convert a `float` to an `int`, you will lose all digits after the decimal place!"
   ]
  },
  {
   "cell_type": "markdown",
   "metadata": {},
   "source": [
    "We can construct `bool` objects by using logical expressions, just like in mathematics."
   ]
  },
  {
   "cell_type": "code",
   "execution_count": 25,
   "metadata": {},
   "outputs": [
    {
     "name": "stdout",
     "output_type": "stream",
     "text": [
      "False\n"
     ]
    }
   ],
   "source": [
    "# Basic assignment of True or False (note first letter is capitalised!)\n",
    "x = False\n",
    "print(x)"
   ]
  },
  {
   "cell_type": "code",
   "execution_count": 26,
   "metadata": {},
   "outputs": [
    {
     "name": "stdout",
     "output_type": "stream",
     "text": [
      "True\n"
     ]
    }
   ],
   "source": [
    "x = 9 > 5\n",
    "print(x)"
   ]
  },
  {
   "cell_type": "code",
   "execution_count": 27,
   "metadata": {},
   "outputs": [
    {
     "name": "stdout",
     "output_type": "stream",
     "text": [
      "False\n",
      "x2 is of type <class 'bool'>\n"
     ]
    }
   ],
   "source": [
    "x2 = 5 < 3\n",
    "print(x2)\n",
    "print(\"x2 is of type\", type(x2))"
   ]
  },
  {
   "cell_type": "markdown",
   "metadata": {},
   "source": [
    "We can build more complicated `bool` expressions using `and` and `or` in the obvious way.\n",
    "\n",
    "Once you have a `bool` quantity, you can run different code depending on whether it is `True` or `False` by using an `if` statement. Pay attention to:\n",
    "\n",
    "- After the `if` statement must be a single `bool` expression (but `and`/`or` quantities are allowed)\n",
    "- The decision lines end with a colon `:`\n",
    "- The actions are indented by 4 spaces (the tab key in Jupyter will create the spaces automatically).\n",
    "- The `if` actions are performed if the `bool` is `True`. The `elif` actions are checked next (in the order written) and performed if their `bool` expression is `True`. The `else` actions are performed if everything is `False`.\n",
    "- The `elif` and `else` parts are optional."
   ]
  },
  {
   "cell_type": "code",
   "execution_count": 28,
   "metadata": {},
   "outputs": [
    {
     "name": "stdout",
     "output_type": "stream",
     "text": [
      "This number is either divisible by 2 or 5 (or both)\n"
     ]
    }
   ],
   "source": [
    "# Chain multiple logical expressions using 'and'/'or' (and brackets!)\n",
    "number = 25\n",
    "if number % 2 == 0 or number % 5 ==0:\n",
    "    print(\"This number is either divisible by 2 or 5 (or both)\")\n",
    "else:\n",
    "    print(\"This number is not divisible by 2 or 5\")"
   ]
  },
  {
   "cell_type": "code",
   "execution_count": 29,
   "metadata": {},
   "outputs": [
    {
     "name": "stdout",
     "output_type": "stream",
     "text": [
      "This number is non-positive\n"
     ]
    }
   ],
   "source": [
    "number = -3\n",
    "if (number > 0) and (number % 2 == 0 or number % 5 ==0):\n",
    "    print(\"This positive number is either divisible by 2 or 5 (or both)\")\n",
    "elif number <= 0:\n",
    "    print(\"This number is non-positive\")\n",
    "else:\n",
    "    print(\"This positive number is not divisible by 2 or 5\")"
   ]
  },
  {
   "cell_type": "markdown",
   "metadata": {},
   "source": [
    "**Exercise 5:** Determine the types of the following variables `x`, `y` and `z`:\n",
    "- x = 2\n",
    "- y = 2.3434\n",
    "- z = \"Ted\""
   ]
  },
  {
   "cell_type": "code",
   "execution_count": 30,
   "metadata": {},
   "outputs": [],
   "source": [
    "# Complete exercise here"
   ]
  },
  {
   "cell_type": "markdown",
   "metadata": {},
   "source": [
    "**Exercise 6:** This is a version of the famous 'fizzbuzz' problem. Define an integer `x` (e.g. `x=4`) and write code that prints out\n",
    "- \"fizz\" if `x` is divisible by 3\n",
    "- \"buzz\" if `x` is divisible by 5\n",
    "- \"fizzbuzz\" if `x` is divisible by both 3 and 5\n",
    "- The value of `x` if `x` is not divisible by 3 or 5\n",
    "\n",
    "Try different values for `x` to make sure your code is working properly."
   ]
  },
  {
   "cell_type": "code",
   "execution_count": 31,
   "metadata": {},
   "outputs": [],
   "source": [
    "# Complete exercise here"
   ]
  },
  {
   "cell_type": "markdown",
   "metadata": {},
   "source": [
    "## 1.4 Lists & Loops"
   ]
  },
  {
   "cell_type": "markdown",
   "metadata": {},
   "source": [
    "A list is a sequence of values. The individual elements or items in a list can be of any type (even a list)."
   ]
  },
  {
   "cell_type": "code",
   "execution_count": 32,
   "metadata": {},
   "outputs": [
    {
     "name": "stdout",
     "output_type": "stream",
     "text": [
      "[17, 'energetic', True]\n"
     ]
    }
   ],
   "source": [
    "# Create a list\n",
    "x = [17, 'energetic', True]\n",
    "print(x)"
   ]
  },
  {
   "cell_type": "markdown",
   "metadata": {},
   "source": [
    "You can refer to an individual entry in a list based on its index:"
   ]
  },
  {
   "cell_type": "code",
   "execution_count": 33,
   "metadata": {},
   "outputs": [
    {
     "name": "stdout",
     "output_type": "stream",
     "text": [
      "energetic\n"
     ]
    }
   ],
   "source": [
    "print(x[1])"
   ]
  },
  {
   "cell_type": "markdown",
   "metadata": {},
   "source": [
    "**Warning!** The first item in a list has index 0 (`x[0]`). So, if a list has $n$ elements, the last item in the list has index $n-1$ (`x[n-1]`). This is not the case in all programming languages.\n",
    "\n",
    "We can check how long a list is using the `len` command."
   ]
  },
  {
   "cell_type": "code",
   "execution_count": 34,
   "metadata": {},
   "outputs": [
    {
     "data": {
      "text/plain": [
       "3"
      ]
     },
     "execution_count": 34,
     "metadata": {},
     "output_type": "execute_result"
    }
   ],
   "source": [
    "len(x)"
   ]
  },
  {
   "cell_type": "markdown",
   "metadata": {},
   "source": [
    "We check if a value is in a list using `in`:"
   ]
  },
  {
   "cell_type": "code",
   "execution_count": 35,
   "metadata": {},
   "outputs": [
    {
     "name": "stdout",
     "output_type": "stream",
     "text": [
      "x has True? True\n",
      "x has 3? False\n"
     ]
    }
   ],
   "source": [
    "has_true = True in x\n",
    "has_three = 3 in x\n",
    "print(\"x has True?\", has_true)\n",
    "print(\"x has 3?\", has_three)"
   ]
  },
  {
   "cell_type": "markdown",
   "metadata": {},
   "source": [
    "Often when we have a list of several items, we want to perform a single task to each item in the list. We do this using a `for` loop."
   ]
  },
  {
   "cell_type": "code",
   "execution_count": 36,
   "metadata": {},
   "outputs": [
    {
     "name": "stdout",
     "output_type": "stream",
     "text": [
      "I like to play basketball\n",
      "I like to play soccer\n",
      "I like to play rugby\n"
     ]
    }
   ],
   "source": [
    "sports = ['basketball','soccer', 'rugby']\n",
    "for sport in sports:  # inside the indented code below, the current list element is the variable 'sport'\n",
    "    print(\"I like to play\", sport)  # note indentation"
   ]
  },
  {
   "cell_type": "code",
   "execution_count": 37,
   "metadata": {},
   "outputs": [
    {
     "name": "stdout",
     "output_type": "stream",
     "text": [
      "[10, 22, 44, 66, 100, 110]\n"
     ]
    }
   ],
   "source": [
    "x = [5,10,15,22,44,66,99,100,101,105,110,119]\n",
    "\n",
    "# What are the even numbers in x?\n",
    "\n",
    "evens = []  # empty list, we will add values to it\n",
    "for number in x:\n",
    "    if number % 2 == 0:\n",
    "        evens.append(number)  # add number to the list evens (at the end)\n",
    "\n",
    "print(evens)"
   ]
  },
  {
   "cell_type": "markdown",
   "metadata": {},
   "source": [
    "We can also pick out subsets of a list using 'slicing':"
   ]
  },
  {
   "cell_type": "code",
   "execution_count": 38,
   "metadata": {},
   "outputs": [
    {
     "name": "stdout",
     "output_type": "stream",
     "text": [
      "[15, 22, 44]\n",
      "[22, 44, 66, 99, 100, 101, 105, 110, 119]\n",
      "[5, 10, 15, 22, 44, 66, 99, 100, 101, 105]\n"
     ]
    }
   ],
   "source": [
    "x = [5,10,15,22,44,66,99,100,101,105,110,119]\n",
    "print(x[2:5])\n",
    "print(x[3:])\n",
    "print(x[:-2])"
   ]
  },
  {
   "cell_type": "markdown",
   "metadata": {},
   "source": [
    "Negative indices refer to the end of the list (e.g. `-1` is the last element of a list). Slicing `x[a:b]` goes from index `a` to index `b-1`, where leaving `a` or `b` blank means the start/end of the list.\n",
    "\n",
    "**Exercise 7:** What slice returns `x` without the first and last elements?"
   ]
  },
  {
   "cell_type": "code",
   "execution_count": 39,
   "metadata": {},
   "outputs": [],
   "source": [
    "# Complete exercise here"
   ]
  },
  {
   "cell_type": "markdown",
   "metadata": {},
   "source": [
    "A very common list we will use are the values $0,1,2,\\ldots$. Fortunately Python has a `range` function which lets us do loops over these values very easily.\n",
    "\n",
    "- `range(n)` loops over $0,1,\\ldots,n-1$ (inclusive), in that order.\n",
    "- `range(a, b)` loops over $a, a+1,\\ldots, b-1$ (inclusive), in that order.\n",
    "- `range(a, b, s)` loops over $a, a+s, a+2s, \\ldots,b-1$ (inclusive), in that order. If $b-1$ is not in this sequence, it stops at the largest value less than $b-1$.\n",
    " \n",
    "You can loop backwards by using $s<0$, but of course then you need $a>b$."
   ]
  },
  {
   "cell_type": "code",
   "execution_count": 40,
   "metadata": {},
   "outputs": [
    {
     "name": "stdout",
     "output_type": "stream",
     "text": [
      "Total = 55\n"
     ]
    }
   ],
   "source": [
    "# Add up the values 1+2+...+10\n",
    "# This example demonstrates how you can use a counter to dynamically increase \n",
    "# a counter based on what the current iteration value is.\n",
    "total = 0\n",
    "for number in range(1, 11):\n",
    "    total += number  # sums the number to the total, equivalent to total = total + number\n",
    "print('Total =',total) "
   ]
  },
  {
   "cell_type": "markdown",
   "metadata": {},
   "source": [
    "Since `range(n)` are the indices for a list of length $n$, this gives us two different ways to loop over a list."
   ]
  },
  {
   "cell_type": "code",
   "execution_count": 41,
   "metadata": {},
   "outputs": [
    {
     "name": "stdout",
     "output_type": "stream",
     "text": [
      "Entries sum to 796\n",
      "Entries sum to 796\n"
     ]
    }
   ],
   "source": [
    "x = [5,10,15,22,44,66,99,100,101,105,110,119]\n",
    "\n",
    "# Calculate the sum of all entries in x\n",
    "\n",
    "# Method 1: loop over list entries\n",
    "total = 0\n",
    "for number in x:\n",
    "    total += number\n",
    "print(\"Entries sum to\", total)\n",
    "\n",
    "# Method 2: loop over indices\n",
    "total = 0\n",
    "for index in range(len(x)):  # index = 0, 1, ..., len(x)-1\n",
    "    total += x[index]  # currently looking at x[index]\n",
    "print(\"Entries sum to\", total)"
   ]
  },
  {
   "cell_type": "markdown",
   "metadata": {},
   "source": [
    "**Exercise 8:** For the list `x` above, write a loop which calculates the sum of every second entry in the list.\n",
    "\n",
    "For example, if the list is `x=[2, 6, 3, 7, 5, 2, 7]`, you code should return $6 + 7 + 2 = 15$ (sum of 2nd, 4th, 6th entries of `x`)."
   ]
  },
  {
   "cell_type": "code",
   "execution_count": 42,
   "metadata": {},
   "outputs": [],
   "source": [
    "# Complete exercise here"
   ]
  },
  {
   "cell_type": "markdown",
   "metadata": {},
   "source": [
    "**Exercise 9:** Using a loop, write code which creates a list containing all (summer) Olympic years between 1984 and 2016.\n",
    "\n",
    "* Note: the summer Olympics are held every 4th year, e.g. 1984, 1988, 1992, ... (except the \"2020 Olympics\" was held in 2021 because of COVID-19)\n",
    "\n",
    "* Hint: look up Python \"list methods\", i.e. functions you can call on lists to manipulate them, and find one that is appropriate.\n"
   ]
  },
  {
   "cell_type": "code",
   "execution_count": 43,
   "metadata": {},
   "outputs": [],
   "source": [
    "# Complete exercise here"
   ]
  }
 ],
 "metadata": {
  "kernelspec": {
   "display_name": "Python 3 (ipykernel)",
   "language": "python",
   "name": "python3"
  },
  "language_info": {
   "codemirror_mode": {
    "name": "ipython",
    "version": 3
   },
   "file_extension": ".py",
   "mimetype": "text/x-python",
   "name": "python",
   "nbconvert_exporter": "python",
   "pygments_lexer": "ipython3",
   "version": "3.10.14"
  }
 },
 "nbformat": 4,
 "nbformat_minor": 4
}
